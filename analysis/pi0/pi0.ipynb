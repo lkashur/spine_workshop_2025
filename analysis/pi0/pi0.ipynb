{
 "cells": [
  {
   "cell_type": "markdown",
   "id": "cb2c9028-5786-4d7f-9d35-18eb3e794813",
   "metadata": {},
   "source": [
    "# Neutral Pions at the SBN Program\n",
    "\n",
    "#### There is no shortage of reasons to study neutral pions at the SBN Program\n",
    "* Neutral-current (NC) $\\pi^{0}$s are primary background in electron neutrino search\n",
    "* Both charged-current (CC) and NC $\\pi^{0}$s offer…\n",
    "  * Opportunities to probe resonant interaction relevant to all accelerator-based neutrino experiments\n",
    "  * Standard candles for shower energy calibration given diphoton invariant mass\n",
    "\n",
    "#### Today we will focus on the following interactions involving BNB neutrinos:\n",
    "$\\nu_{\\mu} + Ar \\rightarrow 1\\mu^{-} + 0\\pi^{\\pm} +  1\\pi^{0} + X$,\n",
    "\n",
    "where $X$ is any final state particle other than muons or charged pions.  Charged pions are deliberately excluded as to focus on resonant production modes.\n"
   ]
  },
  {
   "cell_type": "code",
   "execution_count": null,
   "id": "c29fe3bd-23a0-41fe-a2a2-278526dda995",
   "metadata": {},
   "outputs": [],
   "source": [
    "# basic imports\n",
    "import sys\n",
    "import yaml\n",
    "from collections import defaultdict\n",
    "import numpy as np\n",
    "import pandas as pd\n",
    "import matplotlib.pyplot as plt\n",
    "import uproot"
   ]
  },
  {
   "cell_type": "markdown",
   "id": "21ebaa15-b0c0-48ed-8677-4b0303099e20",
   "metadata": {},
   "source": [
    "## SPINE setup"
   ]
  },
  {
   "cell_type": "code",
   "execution_count": null,
   "id": "2c42abad-a68f-44a0-95ce-7ba571191bd9",
   "metadata": {},
   "outputs": [],
   "source": [
    "# If you haven't installed spine-ml with pip, point to a local build\n",
    "SOFTWARE_DIR = '/sdf/data/neutrino/software/spine/src/'\n",
    "sys.path.append(SOFTWARE_DIR)\n",
    "from spine.driver import Driver\n",
    "from spine.vis.out import Drawer"
   ]
  },
  {
   "cell_type": "markdown",
   "id": "ba8ce751-f990-4825-acbe-b0c98365a429",
   "metadata": {},
   "source": [
    "## Configuration\n",
    "#### Choose experiment (SBND or ICARUS) and initialize SPINE driver"
   ]
  },
  {
   "cell_type": "code",
   "execution_count": null,
   "id": "f7810de6-9c14-4842-9fd5-8a6031241990",
   "metadata": {},
   "outputs": [],
   "source": [
    "#exp = 'sbnd'\n",
    "exp = 'icarus'"
   ]
  },
  {
   "cell_type": "code",
   "execution_count": null,
   "id": "b3634de8-72d6-4380-9b94-f0d332b8fdab",
   "metadata": {},
   "outputs": [],
   "source": [
    "# Specify path to SPINE HDF5 file\n",
    "# Note that these files are not guaranteed to be the latest and greatest\n",
    "if exp == 'sbnd':\n",
    "    HDF5_PATH = '/sdf/data/neutrino/sbnd/spine/prod/bnb_rockbox_cosmics_v01/output_spine_20250305/larcv_bnb_cosmics_0_spine.h5'\n",
    "    ENTRY = 62\n",
    "    TRUTH_INTER_ID = 0\n",
    "elif exp == 'icarus':  \n",
    "    HDF5_PATH = '/sdf/data/neutrino/icarus/spine/prod/bnb_nu_corsika_sys_250625/cv_respun/output_spine/larcv_mc_20250209_213718_558989-0c639ab3-6c2c-4b9e-9c5b-df908c11dc35_spine.h5'\n",
    "    # If you have access to SBN GPVMs:\n",
    "    #HDF5_PATH = '/exp/icarus/data/users/lkashur/spine_workshop_2025/larcv_mc_20250209_213718_558989-0c639ab3-6c2c-4b9e-9c5b-df908c11dc35_spine.h5'\n",
    "    ENTRY = 2\n",
    "    TRUTH_INTER_ID = 31\n",
    "\n",
    "# ICARUS\n",
    "MEDULLA_OUTPUT_PATH = '/sdf/data/neutrino/lkashur/spine_workshop_2025/icarus/icarus_bnb_ccpi0_cv_29_09_2025.root'\n",
    "# If you have access to the SBN GPVMs:\n",
    "#MEDULLA_OUTPUT_PATH = '/exp/icarus/data/users/lkashur/spine_workshop_2025/icarus/icarus_bnb_ccpi0_cv_29_09_2025.root'"
   ]
  },
  {
   "cell_type": "code",
   "execution_count": null,
   "id": "acf506cc-7fbf-4fdd-992b-322aa6b3b31d",
   "metadata": {},
   "outputs": [],
   "source": [
    "# configure\n",
    "cfg = '''\n",
    "base:\n",
    "  iterations: -1\n",
    "  overwrite_log: true\n",
    "\n",
    "# Load HDF5 files\n",
    "io:\n",
    "  reader:\n",
    "    file_keys: HDF5_PATH\n",
    "    name: hdf5\n",
    "    skip_unknown_attrs: true\n",
    "\n",
    "# Build reconstruction output representations\n",
    "build:\n",
    "  mode: both\n",
    "  fragments: false\n",
    "  particles: true\n",
    "  interactions: true\n",
    "  units: cm\n",
    "'''.replace('HDF5_PATH', HDF5_PATH)\n",
    "cfg = yaml.safe_load(cfg)"
   ]
  },
  {
   "cell_type": "code",
   "execution_count": null,
   "id": "e1c88925-6d38-46e7-a569-9b49647539e5",
   "metadata": {},
   "outputs": [],
   "source": [
    "driver = Driver(cfg)"
   ]
  },
  {
   "cell_type": "code",
   "execution_count": null,
   "id": "26db79e0-1a70-4817-9558-6ba7a812e1e0",
   "metadata": {},
   "outputs": [],
   "source": [
    "data = driver.process(entry=ENTRY)"
   ]
  },
  {
   "cell_type": "markdown",
   "id": "66de2aba-1a75-4eec-8728-341268092b80",
   "metadata": {},
   "source": [
    "## Signal Definition\n",
    "\n",
    "We'll define a signal $\\nu_{\\mu}$ CC $\\pi^{0}$ interaction as any fiducial neutrino interaction resulting in the following final state particles:\n",
    "* 1 primary muon (KE $\\ge$ 143 MeV)\n",
    "* 0 primary charged pions (KE $\\ge$ 25 MeV)\n",
    "* 1 primary neutral pion.\n",
    "\n",
    "Using the SPINE drawing tool, let's take a look at a signal interaction in truth:"
   ]
  },
  {
   "cell_type": "code",
   "execution_count": null,
   "id": "8e1ace99-4dfb-4584-9fa3-58f06d44e8a5",
   "metadata": {},
   "outputs": [],
   "source": [
    "drawer = Drawer(data, draw_mode='truth', detector=exp) \n",
    "fig = drawer.get('particles', ['interaction_id', 'id', 'pdg_code', 'parent_track_id', 'parent_pdg_code'], draw_end_points=False, draw_vertices=False)\n",
    "fig.show()"
   ]
  },
  {
   "cell_type": "markdown",
   "id": "47800bce-b7a1-4f81-9baa-5e6433378dd6",
   "metadata": {},
   "source": [
    "## Taking a closer look at the truth information available to us\n",
    "#### What interaction/particle attributes tell us we have a signal interaction?"
   ]
  },
  {
   "cell_type": "code",
   "execution_count": null,
   "id": "e49dccc5-88d7-431c-b19f-fa8c1171d793",
   "metadata": {},
   "outputs": [],
   "source": [
    "# Select truth_interactions key from data dictionary\n",
    "truth_interactions = data['truth_interactions']"
   ]
  },
  {
   "cell_type": "code",
   "execution_count": null,
   "id": "82eb1347-43fe-4c9e-b566-e9e2129e69fe",
   "metadata": {},
   "outputs": [],
   "source": [
    "# Pick a specific interaction\n",
    "truth_inter = [inter for inter in truth_interactions if inter.id == TRUTH_INTER_ID][0]\n",
    "\n",
    "print(f'Now viewing Truth Interaction {TRUTH_INTER_ID}, containing the following particles:\\n')\n",
    "for p in truth_inter.particles:\n",
    "    print(p)"
   ]
  },
  {
   "cell_type": "markdown",
   "id": "ad752099-5805-46a1-80fa-a513d05f8303",
   "metadata": {},
   "source": [
    "#### Check for true primary muons"
   ]
  },
  {
   "cell_type": "code",
   "execution_count": null,
   "id": "c2efdf9b-db0c-467f-9605-4d5aba1318b4",
   "metadata": {},
   "outputs": [],
   "source": [
    "truth_muons = [p for p in truth_inter.particles if p.is_primary and p.pdg_code == 13]\n",
    "print(f'{len(truth_muons)} true primary muons present\\n')\n",
    "if(len(truth_muons)):\n",
    "    for p in truth_muons:\n",
    "        print(f'True Muon ID: {p.id}\\nTrue Muon Kinetic Energy: {p.ke:.2f} MeV')\n",
    "        print('-' * 50)"
   ]
  },
  {
   "cell_type": "markdown",
   "id": "e27e7ae0-13a2-45f8-9f82-b0b8265a7351",
   "metadata": {},
   "source": [
    "#### Check for (absence of) true primary charged pions"
   ]
  },
  {
   "cell_type": "code",
   "execution_count": null,
   "id": "9c6cb167-1e21-4387-9911-5d010b56583f",
   "metadata": {},
   "outputs": [],
   "source": [
    "truth_pions = [p for p in truth_inter.particles if p.is_primary and abs(p.pdg_code) == 211]\n",
    "print(f'{len(truth_pions)} true primary charged pions present\\n')\n",
    "if(len(truth_pions)):\n",
    "    for p in truth_pions:\n",
    "        print(f'True Pion ID: {p.id}, True Pion Kinetic Energy: {p.ke:.2f} MeV')"
   ]
  },
  {
   "cell_type": "markdown",
   "id": "38875335-f007-4548-ab5a-b02b0c9fc2a1",
   "metadata": {},
   "source": [
    "#### Check for true primary neutral pions"
   ]
  },
  {
   "cell_type": "code",
   "execution_count": null,
   "id": "1e2643bb-f4be-4408-88b8-9b2fc1cfd8bb",
   "metadata": {},
   "outputs": [],
   "source": [
    "def find_true_pi0s(truth_inter, primary=True):\n",
    "    '''\n",
    "    Find true neutral pions in a true interaction.\n",
    "\n",
    "    Parameters\n",
    "    ----------\n",
    "    truth_inter : TruthInteraction\n",
    "        The SPINE TruthInteraction object to check.\n",
    "    primary : bool\n",
    "        True to check primary neutral pions, False to check nonprimary neutral pions.\n",
    "\n",
    "    Returns\n",
    "    -------\n",
    "    defaultdict(list)\n",
    "        Dictionary with keys corresponding to neutral pion track ID and values corresponding to neutral pion daughter IDs.\n",
    "    '''\n",
    "    truth_pi0s = defaultdict(list)\n",
    "    for p in truth_inter.particles:\n",
    "        if primary and not p.is_primary : continue\n",
    "        if (p.pdg_code == 22 or abs(p.pdg_code) == 11) and p.parent_pdg_code == 111:\n",
    "            truth_pi0s[p.parent_track_id].append(p.id)\n",
    "    return truth_pi0s"
   ]
  },
  {
   "cell_type": "code",
   "execution_count": null,
   "id": "4cb13476-af1a-4110-98d4-095444dd2c33",
   "metadata": {},
   "outputs": [],
   "source": [
    "truth_pi0s = find_true_pi0s(truth_inter)\n",
    "if len(truth_pi0s):\n",
    "    print(f'{len(truth_pi0s)} true primary neutral pion present\\n')\n",
    "    for k,v in truth_pi0s.items():\n",
    "        print(f'True Neutral Pion ID: {k}\\nTrue Neutral Pion Daughter IDs: {v}')\n",
    "        print('-' * 50)\n",
    "else:\n",
    "    print('No true neutral pion is present')\n",
    "\n",
    "truth_pi0_daughters = [p for p in truth_inter.particles if p.id in list(truth_pi0s.values())[0]]"
   ]
  },
  {
   "cell_type": "code",
   "execution_count": null,
   "id": "ca419511-3111-497e-80f8-d98c4e4a97f4",
   "metadata": {},
   "outputs": [],
   "source": [
    "# Sanity check: \n",
    "# Do we have a reasonable handle on the true momentum of the neutral pion?\n",
    "# This quanity is important in differential cross section measurements\n",
    "# We will check this using the four-momenta of the pi0 decay products\n",
    "\n",
    "# P_pi0 = P_sh1 + P_sh2\n",
    "P_pi0 = np.array([0., 0., 0., 0.])\n",
    "for sh in truth_pi0_daughters:\n",
    "    P_pi0 += np.array([sh.energy_init, sh.momentum[0], sh.momentum[1], sh.momentum[2]])\n",
    "\n",
    "# M_pi0 ^2 = P_pi0 ^2\n",
    "M_pi0_sqr = P_pi0[0]**2 - np.dot(P_pi0[1:], P_pi0[1:])\n",
    "M_pi0 = np.sqrt(M_pi0_sqr)\n",
    "print(f'True neutral pion mass: {M_pi0:.4f} MeV/c^2')"
   ]
  },
  {
   "cell_type": "markdown",
   "id": "3ff3bebb-1de9-4107-b23f-8a17c7224dfb",
   "metadata": {},
   "source": [
    "## Applying selection cuts\n",
    "#### To select $\\nu_{\\mu}$ CC $\\pi^{0}$ candidates, the following selection cuts are applied to reconstructed interactions:\n",
    "* Interaction vertex inside fiducial volume\n",
    "* Valid optical flash\n",
    "* 1 primary muon (KE $\\ge$ 143 MeV)\n",
    "* 0 primary charged pions (KE $\\ge$ 25 MeV)\n",
    "* 2 primary photons (KE $\\ge$ 25 MeV)\n",
    "\n",
    "If you want to maximize your selection purity, cuts on reconstructed neutral pion mass are beneficial (i.e. 50 MeV $\\le$ m$_{\\gamma \\gamma}$ < 400 MeV)"
   ]
  },
  {
   "cell_type": "code",
   "execution_count": null,
   "id": "75cc7fef-9f99-4bdf-9574-421105092c64",
   "metadata": {},
   "outputs": [],
   "source": [
    "# Select reco_interactions key from data dictionary\n",
    "reco_interactions = data['reco_interactions']"
   ]
  },
  {
   "cell_type": "code",
   "execution_count": null,
   "id": "8ab86299-a614-4bd7-aafa-ea2659772e44",
   "metadata": {},
   "outputs": [],
   "source": [
    "# Loop over interactions and apply selection cuts\n",
    "selected_interactions = []\n",
    "for inter in reco_interactions:\n",
    "    \n",
    "    # Is interaction fiducial?\n",
    "    if not inter.is_fiducial: continue\n",
    "\n",
    "    # Is interaction matched to a valid optical flash?\n",
    "    if not inter.is_flash_matched: continue\n",
    "        \n",
    "    # Does interaction contain one primary muon?\n",
    "    prim_muons = [p for p in inter.particles if p.is_primary and p.pid == 2 and p.ke > 143]\n",
    "    if len(prim_muons) != 1: continue\n",
    "    \n",
    "    # Does interaction contain zero charged pions?\n",
    "    prim_pions = [p for p in inter.particles if p.is_primary and p.pid == 3 and p.ke > 25]\n",
    "    if len(prim_pions) != 0: continue\n",
    "    \n",
    "    # Does interaction contain two primary photons?\n",
    "    prim_photons = [p for p in inter.particles if p.is_primary and p.pid == 0 and p.ke > 25]\n",
    "    if len(prim_photons) != 2: continue\n",
    "\n",
    "    # Is invariant mass less than 400 MeV/c^2?\n",
    "    ph1, ph2 = prim_photons[0], prim_photons[1]\n",
    "    ph1_energy, ph2_energy = ph1.calo_ke, ph2.calo_ke\n",
    "    ph1_dir, ph2_dir = ph1.start_point - inter.vertex, ph2.start_point - inter.vertex\n",
    "    ph1_dir /= np.linalg.norm(ph1_dir)\n",
    "    ph2_dir /= np.linalg.norm(ph2_dir)\n",
    "    photons_costheta = np.dot(ph1_dir, ph2_dir)\n",
    "    pi0_mass = np.sqrt(2*ph1_energy*ph2_energy * (1-photons_costheta))\n",
    "    if pi0_mass > 400: continue\n",
    "\n",
    "    # Store output for interactions passing all cuts\n",
    "    out = {}\n",
    "    out['reco_interaction_id'] = inter.id\n",
    "    out['reco_vertex_x'] = inter.vertex[0]\n",
    "    out['reco_vertex_y'] = inter.vertex[1]\n",
    "    out['reco_vertex_z'] = inter.vertex[2]\n",
    "    out['reco_muon_id'] = prim_muons[0].id\n",
    "    out['reco_ph1_id'] = ph1.id\n",
    "    out['reco_ph1_calo_ke'] = ph1_energy\n",
    "    out['reco_ph2_id'] = ph2.id\n",
    "    out['reco_ph2_calo_ke'] = ph2_energy\n",
    "    out['reco_photons_costheta'] = photons_costheta\n",
    "    out['reco_pi0_mass'] = pi0_mass\n",
    "    out['true_interaction_id'] = inter.match_ids[0]\n",
    "    \n",
    "    selected_interactions.append(out)\n",
    "\n",
    "# List of dictionaries --> pandas dataframe\n",
    "sel_df = pd.DataFrame(selected_interactions)"
   ]
  },
  {
   "cell_type": "code",
   "execution_count": null,
   "id": "699aff71-01ce-494a-bfd3-15a945577e00",
   "metadata": {},
   "outputs": [],
   "source": [
    "# Each row in our dataframe corresponds to an interaction passing the selection\n",
    "sel_df"
   ]
  },
  {
   "cell_type": "code",
   "execution_count": null,
   "id": "72502090-5103-482b-8848-d5d04924e5f2",
   "metadata": {},
   "outputs": [],
   "source": [
    "sel_df.iloc[0]"
   ]
  },
  {
   "cell_type": "markdown",
   "id": "3b3dd1c6-e5d8-45bf-93e5-668c6c2ecac3",
   "metadata": {},
   "source": [
    "#### We'll take another look at this event, now in reconstructed space"
   ]
  },
  {
   "cell_type": "code",
   "execution_count": null,
   "id": "319331c5-698d-434a-8cf1-8529c835f9a8",
   "metadata": {},
   "outputs": [],
   "source": [
    "drawer = Drawer(data, draw_mode='reco', detector=exp) \n",
    "fig = drawer.get('particles', ['interaction_id', 'id', 'pid', 'ke'], draw_end_points=False, draw_vertices=False)\n",
    "fig.show()"
   ]
  },
  {
   "cell_type": "markdown",
   "id": "96f3cd8b-0b7b-440c-8a25-9df5d21f10a4",
   "metadata": {},
   "source": [
    "#### A Word on shower energy reconstruction\n",
    "The particle kinetic energy attribute (`p.ke`) defaults to the following calorimetric sum for photons and electrons:\n",
    "\n",
    "$$E_{shower} = W_{i} [\\frac{MeV}{e^{-}}] \\cdot C_{cal} [\\frac{e^{-}}{ADC}] \\cdot C_{adj} \\cdot \\frac{1}{R} \\cdot \\sum_{dep} e^{\\frac{t_{drift}}{\\tau}} \\cdot dep [ADC]$$\n",
    "\n",
    "with calibration factors:\n",
    "- $W_{i}$   : Ar work function (23.6 eV/e$^{-}$)\n",
    "- $C_{cal}$ : Calorimetric gain (ADC $\\rightarrow$ electron conversion)\n",
    "- $C_{adj}$ : Factor to account for subthreshold charge\n",
    "- $R$       : Recombination factor\n",
    "- $\\tau$    : Electron lifetime\n",
    "\n",
    "The expression for $E_{shower}$ can be further tweaked a containment correction and neutral pion mass adjustment."
   ]
  },
  {
   "cell_type": "markdown",
   "id": "a4d0210a-bf0c-47fc-83f6-800b747f1be6",
   "metadata": {},
   "source": [
    "## Medulla\n",
    "#### Large-scale selection is carried out with CAF-based Medulla framework, which offers support for...\n",
    "* Sample scaling\n",
    "* Systematic assessment\n",
    "* Unblinding decisions\n",
    "\n",
    "We won't run medulla here, but can take a look at an output ROOT file from a selction in MC here:"
   ]
  },
  {
   "cell_type": "code",
   "execution_count": null,
   "id": "01d7cd5f-8496-44be-b5e8-3aec021ab992",
   "metadata": {
    "scrolled": true
   },
   "outputs": [],
   "source": [
    "with uproot.open(MEDULLA_OUTPUT_PATH) as rf:\n",
    "\n",
    "    print('Medulla output file contents:')\n",
    "    for k in rf.keys(cycle=False):\n",
    "        print(f'-{k}')\n",
    "\n",
    "    # TTree --> pandas DataFrame\n",
    "    medulla_sel_nu_tree = rf['events/cv/selected_nu']\n",
    "    medulla_sel_cos_tree = rf['events/cv/selected_cos']\n",
    "    medulla_sig_tree = rf['events/cv/signal']\n",
    "    medulla_sel_nu_df = medulla_sel_nu_tree.arrays(library='pd')\n",
    "    medulla_sel_cos_df = medulla_sel_cos_tree.arrays(library='pd')\n",
    "    medulla_sig_df = medulla_sig_tree.arrays(library='pd')\n",
    "\n",
    "    expsr_tree = rf['events/cv/selected_nu_exposure']\n",
    "    expsr_df = expsr_tree.arrays(library='pd')"
   ]
  },
  {
   "cell_type": "markdown",
   "id": "b3ebbcb3-fd01-497d-8ebf-58f45ad4d896",
   "metadata": {},
   "source": [
    "#### Let's look at our *selected_nu* and *selected_cos* trees\n",
    "\n",
    "These trees contain all interactions passing our selection cuts that are matched to a true neutrino or true cosmic, respectively.\n",
    "Once again, each row of the dataframe corresponds to a selected $\\nu_{\\mu}$ CC $\\pi^{0}$ candidate"
   ]
  },
  {
   "cell_type": "code",
   "execution_count": null,
   "id": "3dd8c701-91f4-4b21-94fa-c28cd61fada7",
   "metadata": {},
   "outputs": [],
   "source": [
    "# Selected neutrino interactions in MC\n",
    "medulla_sel_nu_df"
   ]
  },
  {
   "cell_type": "code",
   "execution_count": null,
   "id": "cd041ae2-e791-4c25-8ae5-df4447602e24",
   "metadata": {},
   "outputs": [],
   "source": [
    "# Selected cosmic interactions in MC\n",
    "medulla_sel_cos_df"
   ]
  },
  {
   "cell_type": "code",
   "execution_count": null,
   "id": "637de4cf-3698-4ded-8b89-c98827ebee83",
   "metadata": {},
   "outputs": [],
   "source": [
    "# Combine nu and cos datasets\n",
    "medulla_sel_df = pd.concat([medulla_sel_nu_df, medulla_sel_cos_df])"
   ]
  },
  {
   "cell_type": "code",
   "execution_count": null,
   "id": "9038a2ed-30e3-4e2b-ba4f-7fb34784c6be",
   "metadata": {},
   "outputs": [],
   "source": [
    "medulla_sel_df"
   ]
  },
  {
   "cell_type": "markdown",
   "id": "efe91e0c-91d5-4dbc-9706-0ca26a2545db",
   "metadata": {},
   "source": [
    "## Plotting\n",
    "#### Pick a variable and take a look"
   ]
  },
  {
   "cell_type": "code",
   "execution_count": null,
   "id": "e29364d5-9ac1-410b-98fb-d2a2a91fedb1",
   "metadata": {},
   "outputs": [],
   "source": [
    "_var = 'reco_pi0_momentum'\n",
    "_binning = np.linspace(0, 1.2, 13)\n",
    "xlabel = 'Reco $\\pi^{0}$ Momentum [GeV/c]'\n",
    "ylabel = 'Candidates'\n",
    "\n",
    "#_var = 'reco_pi0_mass'\n",
    "#_binning = np.linspace(0, 400, 41)\n",
    "#xlabel = 'Reco $\\pi^{0}$ Momentum [GeV/c]'\n",
    "#ylabel = 'Candidates'\n",
    "\n",
    "fig,ax=plt.subplots(figsize=(6,5))\n",
    "ax.hist(medulla_sel_df[_var], _binning, histtype='step')\n",
    "ax.set_xlabel(xlabel)\n",
    "ax.set_ylabel(ylabel)\n",
    "plt.show()"
   ]
  },
  {
   "cell_type": "markdown",
   "id": "34e57857-b07f-4241-ab7e-07ba2a60ac1a",
   "metadata": {},
   "source": [
    "#### More advanced is plotting is available with medulla's *spineplot*\n",
    "Normalized MC (left), Normalized MC and data (middle), Including systematics and scaling to data POT (right)\n",
    "<img src=\"reco_pi0_momentum_plots.png\" alt=\"reco_pi0_momentum_plots\" width=\"1200\"/>"
   ]
  },
  {
   "cell_type": "markdown",
   "id": "ea6eb374-f003-49b8-a633-3fdf05cfdea7",
   "metadata": {},
   "source": [
    "#### Path to physics\n",
    "The $\\nu_{\\mu}$ CC $\\pi^{0}$ analysis is targeting a series of differential cross section measurements.\n",
    "\n",
    "Here we'll discuss how to prepare SPINE inputs for the chosen cross section extraction tool of ICARUS: **GUNDAM**"
   ]
  },
  {
   "cell_type": "markdown",
   "id": "c45f4c14-9a6a-428d-be31-be9915f02c11",
   "metadata": {},
   "source": [
    "#### What inputs does GUNDAM need?"
   ]
  },
  {
   "cell_type": "markdown",
   "id": "ac8df084-9603-4135-8c0a-a821bb96a27c",
   "metadata": {},
   "source": [
    "GUNDAM essentially takes *sbruce* trees as input, with the basic list of ingredients being...\n",
    "1. Selection tree for data\n",
    "2. Selection tree for MC\n",
    "3. Signal tree for MC\n",
    "\n",
    "\\+ relevant POT/livetime scaling factors\n",
    "\n",
    "These items are direct outputs from medulla, which makes life easy.\n",
    "\n",
    "Some modifications are required however, and are listed here:\n",
    "* Categorization variables that define signal and backgrounds must be cast as integers\n",
    "* Multisigma sigmas and weights must be stored in the MC selected tree as a ROOT TClonesArray for every interaction"
   ]
  },
  {
   "cell_type": "markdown",
   "id": "c6d62d5e-aad7-4487-b11f-bc331798da52",
   "metadata": {},
   "source": [
    "#### What does GUNDAM do with these inputs?\n",
    "\n",
    "The measured cross section in true bin $i$ of a variable $X$ is calculated as:\n",
    "\\begin{equation}\n",
    "    \\frac{\\text{d}\\sigma}{\\text{d}X_{i}} = \\sum_{j} \\frac{U_{ij} (N_{j} - B_{j})}{\\Phi \\ \\epsilon_{i} \\ N_{target}} \\frac{1}{\\Delta X_{i}},\n",
    "\\end{equation}\n",
    "\n",
    "where\n",
    "* $j$ is reconstructed bin\n",
    "* $N_{j}$ is number of selected events in bin $j$\n",
    "* $B_{j}$ is number of background events in bin $j$\n",
    "* $\\epsilon_{j}$ is selection efficiency in bin $j$\n",
    "* $X_{i}$ is the true bin width\n",
    "* $U_{ij}$ is an unfolding matrix\n",
    "* $\\Phi$ is the integrated neutrino flux\n",
    "* $N_{target}$ is the number of nuclear targets.\n",
    "\n",
    "**How GUNDAM uses selection trees:** \n",
    "As a binned maxiumum likilihood fitter, GUNDAM fits MC bin counts to data bin counts in reconstructed space through $\\chi^{2}$ minimization.  The fit considers free template paramters which control true signal counts and nuisance parameters that describe the flux, interaction, and detector models.  The output of GUNDAM's fitter is the numerator of the differential cross section expression, or the number of background subtracted signal events in true bin $i$\n",
    "\n",
    "**How GUNDAM uses signal tree:**\n",
    "Post-fit parameters are propagated to the signal counts, and each analysis bin is subject to efficiency, flux, and number of target corrections."
   ]
  },
  {
   "cell_type": "markdown",
   "id": "3563906c-4f7e-4164-8181-7b8d2d6fcf40",
   "metadata": {},
   "source": [
    "#### An example cross section\n",
    "<img src=\"xsec_pi0_momentum.png\" alt=\"xsec_pi0_momentum\" width=\"400\"/>"
   ]
  }
 ],
 "metadata": {
  "kernelspec": {
   "display_name": "Python 3 (ipykernel)",
   "language": "python",
   "name": "python3"
  },
  "language_info": {
   "codemirror_mode": {
    "name": "ipython",
    "version": 3
   },
   "file_extension": ".py",
   "mimetype": "text/x-python",
   "name": "python",
   "nbconvert_exporter": "python",
   "pygments_lexer": "ipython3",
   "version": "3.10.12"
  }
 },
 "nbformat": 4,
 "nbformat_minor": 5
}
